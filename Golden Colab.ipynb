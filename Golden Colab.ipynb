{
 "cells": [
  {
   "cell_type": "markdown",
   "metadata": {
    "id": "OwcP_rzHjNcO"
   },
   "source": [
    "# Mount Drive"
   ]
  },
  {
   "cell_type": "code",
   "execution_count": null,
   "metadata": {
    "id": "bl9J2oZre8QW"
   },
   "outputs": [],
   "source": [
    "from google.colab import drive\n",
    "drive.mount(\"/content/gdrive\")"
   ]
  },
  {
   "cell_type": "markdown",
   "metadata": {
    "id": "PQPho3zgjRkG"
   },
   "source": [
    "# Start a TCP Tunnel and Create SSH Command and Passwd"
   ]
  },
  {
   "cell_type": "code",
   "execution_count": null,
   "metadata": {
    "id": "JjObgvdWjrQ9"
   },
   "outputs": [],
   "source": [
    "# Import Dependencies\n",
    "import random, string, json, getpass\n",
    "from IPython.display import clear_output"
   ]
  },
  {
   "cell_type": "code",
   "execution_count": null,
   "metadata": {
    "id": "jl3uNj3onQ-K"
   },
   "outputs": [],
   "source": [
    "#Generate root password\n",
    "password = ''.join(random.choice(string.ascii_letters + string.digits) for i in range(20))\n",
    "\n",
    "#Download ngrok\n",
    "!wget -q -c -nc https://bin.equinox.io/c/4VmDzA7iaHb/ngrok-stable-linux-amd64.zip\n",
    "!unzip -qq -n ngrok-stable-linux-amd64.zip\n",
    "\n",
    "#Setup sshd\n",
    "! apt-get install -qq -o=Dpkg::Use-Pty=0 openssh-server pwgen > /dev/null\n",
    "\n",
    "#Set root password\n",
    "!echo root:$password | sudo chpasswd\n",
    "!mkdir -p /var/run/sshd\n",
    "!echo \"PermitRootLogin yes\" >> /etc/ssh/sshd_config\n",
    "!echo \"PasswordAuthentication yes\" >> /etc/ssh/sshd_config\n",
    "!echo \"LD_LIBRARY_PATH=/usr/lib64-nvidia\" >> /root/.bashrc\n",
    "!echo \"export LD_LIBRARY_PATH\" >> /root/.bashrc\n",
    "\n",
    "#Run sshd\n",
    "get_ipython().system_raw('/usr/sbin/sshd -D &')\n",
    "\n",
    "#Ask for Token\n",
    "print(\"Copy AuthToken from https://dashboard.ngrok.com/auth\")\n",
    "authtoken = getpass.getpass()\n",
    "\n",
    "#Create tunnel\n",
    "get_ipython().system_raw('./ngrok authtoken $authtoken && ./ngrok tcp 22 &')\n",
    "\n",
    "#Get Public Address and Save into a json\n",
    "!curl -s http://localhost:4040/api/tunnels | python -m json.tool > tmp.json\n",
    "\n",
    "# Read the URL and create Command\n",
    "f = open('tmp.json',)\n",
    "url = json.load(f)['tunnels'][0]['public_url'].split(':')\n",
    "\n",
    "dispStr = f'''\n",
    "\\n************************************Root PassWord***************************\\n\n",
    "                                   {password}\n",
    "\\n************************************Lovely SSH Command**********************\\n\n",
    "                             ssh root@{url[1][2:]} -p {url[2]}\\n\\n'''\n",
    "\n",
    "clear_output(wait=True)\n",
    "print(dispStr)\n",
    "f.close()\n",
    "\n",
    "# Remove Unnecessary Files\n",
    "!ls | grep -v gdrive | xargs rm -r"
   ]
  },
  {
   "cell_type": "markdown",
   "metadata": {
    "id": "nR8FQqMwpP69"
   },
   "source": [
    "# Config the Thing for ySelf"
   ]
  },
  {
   "cell_type": "code",
   "execution_count": null,
   "metadata": {
    "id": "d66eZzUZoMEH"
   },
   "outputs": [],
   "source": [
    "!sudo apt-get update -qq\n",
    "!sudo apt-get dist-upgrade -yy\n",
    "!sudo apt-get autoremove -yy\n",
    "!sudo apt-get autoclean -yy\n",
    "\n",
    "!sudo apt-get install git vim tree tmux gcc -y\n",
    "\n",
    "!alias l=\"ls -ltrha\"\n",
    "!alias deleteAll=\"ls | sudo xargs rm -r\""
   ]
  }
 ],
 "metadata": {
  "accelerator": "GPU",
  "colab": {
   "authorship_tag": "ABX9TyOcs6QuZRL5aJr1vJMis8BK",
   "collapsed_sections": [],
   "name": "Golden Colab.ipynb",
   "provenance": []
  },
  "kernelspec": {
   "display_name": "Python 3 (ipykernel)",
   "language": "python",
   "name": "python3"
  },
  "language_info": {
   "codemirror_mode": {
    "name": "ipython",
    "version": 3
   },
   "file_extension": ".py",
   "mimetype": "text/x-python",
   "name": "python",
   "nbconvert_exporter": "python",
   "pygments_lexer": "ipython3",
   "version": "3.9.7"
  }
 },
 "nbformat": 4,
 "nbformat_minor": 1
}
